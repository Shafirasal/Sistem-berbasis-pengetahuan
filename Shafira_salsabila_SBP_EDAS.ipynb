{
  "nbformat": 4,
  "nbformat_minor": 0,
  "metadata": {
    "colab": {
      "provenance": []
    },
    "kernelspec": {
      "name": "python3",
      "display_name": "Python 3"
    },
    "language_info": {
      "name": "python"
    }
  },
  "cells": [
    {
      "cell_type": "code",
      "execution_count": null,
      "metadata": {
        "id": "nnCz65Pzv6P3"
      },
      "outputs": [],
      "source": [
        "import numpy as np\n",
        "import pandas as pd\n",
        "\n",
        "# Data kriteria dan bobot\n",
        "kriteria = ['K1', 'K2', 'K3', 'K4', 'K5', 'K6', 'K7', 'K8']\n",
        "bobot = [0.2904, 0.2133, 0.1708, 0.0441, 0.1399, 0.0293, 0.0624, 0.0498]\n",
        "types = ['Benefit', 'Cost', 'Benefit', 'Benefit', 'Benefit', 'Benefit', 'Benefit', 'Benefit']\n",
        "\n",
        "# Data alternatif\n",
        "alternatif = [\n",
        "    [7, 7, 9, 7, 1, 9, 1, 6],\n",
        "    [4, 3, 5, 3, 3, 10, 7, 4],\n",
        "    [5, 5, 7, 4, 9, 2, 6, 1],\n",
        "    [9, 5, 10, 9, 7, 8, 6, 7],\n",
        "    [10, 1, 9, 2, 10, 6, 10, 2],\n",
        "    [6, 7, 2, 7, 10, 2, 8, 7],\n",
        "    [10, 9, 10, 2, 6, 7, 10, 4],\n",
        "    [7, 6, 6, 4, 7, 2, 3, 9],\n",
        "    [4, 9, 9, 1, 6, 1, 6, 1],\n",
        "    [9, 8, 2, 4, 5, 3, 2, 5],\n",
        "    [4, 4, 2, 5, 4, 10, 6, 5],\n",
        "    [10, 6, 9, 9, 10, 10, 2, 6],\n",
        "    [6, 8, 8, 5, 4, 9, 2, 3],\n",
        "    [8, 6, 3, 3, 6, 7, 8, 7],\n",
        "    [4, 9, 3, 5, 10, 5, 10, 6],\n",
        "    [6, 2, 7, 6, 5, 6, 5, 9],\n",
        "    [8, 4, 1, 8, 3, 10, 7, 4],\n",
        "    [4, 1, 8, 5, 10, 5, 2, 6],\n",
        "    [9, 8, 9, 5, 1, 3, 10, 6],\n",
        "    [3, 1, 10, 4, 7, 5, 10, 8]\n",
        "]\n",
        "\n"
      ]
    },
    {
      "cell_type": "code",
      "source": [
        "# Buat DataFrame untuk kriteria, bobot, dan tipe\n",
        "df_kriteria = pd.DataFrame({\n",
        "    'Kriteria': kriteria,\n",
        "    'Bobot': bobot,\n",
        "    'Tipe': types\n",
        "})\n",
        "\n",
        "# Tampilkan DataFrame kriteria\n",
        "print(\"Data Kriteria, Bobot, dan Tipe:\")\n",
        "print(df_kriteria)\n",
        "\n",
        "# Konversi data ke dalam DataFrame\n",
        "df_alternatif = pd.DataFrame(alternatif, columns=kriteria)\n",
        "\n",
        "# Tampilkan DataFrame alternatif [MATRIK KEPUTUSAN]\n",
        "print(\"\\nMatriks Keputusan (Data Alternatif):\")\n",
        "print(df_alternatif)"
      ],
      "metadata": {
        "colab": {
          "base_uri": "https://localhost:8080/"
        },
        "id": "xwv2h4mIB6b7",
        "outputId": "09b05677-2c36-4564-a08f-a4b8f1fb1d9a"
      },
      "execution_count": null,
      "outputs": [
        {
          "output_type": "stream",
          "name": "stdout",
          "text": [
            "Data Kriteria, Bobot, dan Tipe:\n",
            "  Kriteria   Bobot     Tipe\n",
            "0       K1  0.2904  Benefit\n",
            "1       K2  0.2133     Cost\n",
            "2       K3  0.1708  Benefit\n",
            "3       K4  0.0441  Benefit\n",
            "4       K5  0.1399  Benefit\n",
            "5       K6  0.0293  Benefit\n",
            "6       K7  0.0624  Benefit\n",
            "7       K8  0.0498  Benefit\n",
            "\n",
            "Matriks Keputusan (Data Alternatif):\n",
            "    K1  K2  K3  K4  K5  K6  K7  K8\n",
            "0    7   7   9   7   1   9   1   6\n",
            "1    4   3   5   3   3  10   7   4\n",
            "2    5   5   7   4   9   2   6   1\n",
            "3    9   5  10   9   7   8   6   7\n",
            "4   10   1   9   2  10   6  10   2\n",
            "5    6   7   2   7  10   2   8   7\n",
            "6   10   9  10   2   6   7  10   4\n",
            "7    7   6   6   4   7   2   3   9\n",
            "8    4   9   9   1   6   1   6   1\n",
            "9    9   8   2   4   5   3   2   5\n",
            "10   4   4   2   5   4  10   6   5\n",
            "11  10   6   9   9  10  10   2   6\n",
            "12   6   8   8   5   4   9   2   3\n",
            "13   8   6   3   3   6   7   8   7\n",
            "14   4   9   3   5  10   5  10   6\n",
            "15   6   2   7   6   5   6   5   9\n",
            "16   8   4   1   8   3  10   7   4\n",
            "17   4   1   8   5  10   5   2   6\n",
            "18   9   8   9   5   1   3  10   6\n",
            "19   3   1  10   4   7   5  10   8\n"
          ]
        }
      ]
    },
    {
      "cell_type": "code",
      "source": [
        "\n",
        "# Hitung nilai rata-rata untuk setiap kriteria\n",
        "avg_kriteria = df_alternatif.mean()\n",
        "\n",
        "# Mencetak solusi rata-rata\n",
        "print(\"Average Solution:\")\n",
        "print(avg_kriteria)\n",
        "\n"
      ],
      "metadata": {
        "colab": {
          "base_uri": "https://localhost:8080/"
        },
        "id": "VJzFuJlowCD-",
        "outputId": "9f857644-ec56-4d52-b378-d2d2031368f5"
      },
      "execution_count": null,
      "outputs": [
        {
          "output_type": "stream",
          "name": "stdout",
          "text": [
            "Average Solution:\n",
            "K1    6.65\n",
            "K2    5.45\n",
            "K3    6.45\n",
            "K4    4.90\n",
            "K5    6.20\n",
            "K6    6.00\n",
            "K7    6.05\n",
            "K8    5.30\n",
            "dtype: float64\n"
          ]
        }
      ]
    },
    {
      "cell_type": "code",
      "source": [
        "# Fungsi untuk menghitung PDA (Positive Distance from Average) dan NDA (Negative Distance from Average)\n",
        "def calculate_distances(df, avg, types):\n",
        "    PDA = np.zeros(df.shape)\n",
        "    NDA = np.zeros(df.shape)\n",
        "    for i, t in enumerate(types):\n",
        "        if t == 'Benefit':\n",
        "            PDA[:, i] = np.maximum(0, df.iloc[:, i] - avg[i])\n",
        "            NDA[:, i] = np.maximum(0, avg[i] - df.iloc[:, i])\n",
        "        else:  # Cost criteria\n",
        "            PDA[:, i] = np.maximum(0, avg[i] - df.iloc[:, i])\n",
        "            NDA[:, i] = np.maximum(0, df.iloc[:, i] - avg[i])\n",
        "    return PDA, NDA\n",
        "\n",
        "# Hitung PDA dan NDA\n",
        "PDA, NDA = calculate_distances(df_alternatif, avg_kriteria, types)\n",
        "\n",
        "\n",
        "# Konversi hasilnya menjadi DataFrame\n",
        "df_PDA = pd.DataFrame(PDA, columns=kriteria)\n",
        "df_NDA = pd.DataFrame(NDA, columns=kriteria)\n",
        "\n",
        "# Tampilkan hasil\n",
        "print(\"PDA (Positive Distance from Average):\")\n",
        "print(df_PDA)\n",
        "\n",
        "print(\"\\nNDA (Negative Distance from Average):\")\n",
        "print(df_NDA)"
      ],
      "metadata": {
        "colab": {
          "base_uri": "https://localhost:8080/"
        },
        "id": "-HP8I6gqwGvG",
        "outputId": "51acd28c-06b9-4217-f497-ea4553bc3bff"
      },
      "execution_count": null,
      "outputs": [
        {
          "output_type": "stream",
          "name": "stdout",
          "text": [
            "PDA (Positive Distance from Average):\n",
            "      K1    K2    K3   K4   K5   K6    K7   K8\n",
            "0   0.35  0.00  2.55  2.1  0.0  3.0  0.00  0.7\n",
            "1   0.00  2.45  0.00  0.0  0.0  4.0  0.95  0.0\n",
            "2   0.00  0.45  0.55  0.0  2.8  0.0  0.00  0.0\n",
            "3   2.35  0.45  3.55  4.1  0.8  2.0  0.00  1.7\n",
            "4   3.35  4.45  2.55  0.0  3.8  0.0  3.95  0.0\n",
            "5   0.00  0.00  0.00  2.1  3.8  0.0  1.95  1.7\n",
            "6   3.35  0.00  3.55  0.0  0.0  1.0  3.95  0.0\n",
            "7   0.35  0.00  0.00  0.0  0.8  0.0  0.00  3.7\n",
            "8   0.00  0.00  2.55  0.0  0.0  0.0  0.00  0.0\n",
            "9   2.35  0.00  0.00  0.0  0.0  0.0  0.00  0.0\n",
            "10  0.00  1.45  0.00  0.1  0.0  4.0  0.00  0.0\n",
            "11  3.35  0.00  2.55  4.1  3.8  4.0  0.00  0.7\n",
            "12  0.00  0.00  1.55  0.1  0.0  3.0  0.00  0.0\n",
            "13  1.35  0.00  0.00  0.0  0.0  1.0  1.95  1.7\n",
            "14  0.00  0.00  0.00  0.1  3.8  0.0  3.95  0.7\n",
            "15  0.00  3.45  0.55  1.1  0.0  0.0  0.00  3.7\n",
            "16  1.35  1.45  0.00  3.1  0.0  4.0  0.95  0.0\n",
            "17  0.00  4.45  1.55  0.1  3.8  0.0  0.00  0.7\n",
            "18  2.35  0.00  2.55  0.1  0.0  0.0  3.95  0.7\n",
            "19  0.00  4.45  3.55  0.0  0.8  0.0  3.95  2.7\n",
            "\n",
            "NDA (Negative Distance from Average):\n",
            "      K1    K2    K3   K4   K5   K6    K7   K8\n",
            "0   0.00  1.55  0.00  0.0  5.2  0.0  5.05  0.0\n",
            "1   2.65  0.00  1.45  1.9  3.2  0.0  0.00  1.3\n",
            "2   1.65  0.00  0.00  0.9  0.0  4.0  0.05  4.3\n",
            "3   0.00  0.00  0.00  0.0  0.0  0.0  0.05  0.0\n",
            "4   0.00  0.00  0.00  2.9  0.0  0.0  0.00  3.3\n",
            "5   0.65  1.55  4.45  0.0  0.0  4.0  0.00  0.0\n",
            "6   0.00  3.55  0.00  2.9  0.2  0.0  0.00  1.3\n",
            "7   0.00  0.55  0.45  0.9  0.0  4.0  3.05  0.0\n",
            "8   2.65  3.55  0.00  3.9  0.2  5.0  0.05  4.3\n",
            "9   0.00  2.55  4.45  0.9  1.2  3.0  4.05  0.3\n",
            "10  2.65  0.00  4.45  0.0  2.2  0.0  0.05  0.3\n",
            "11  0.00  0.55  0.00  0.0  0.0  0.0  4.05  0.0\n",
            "12  0.65  2.55  0.00  0.0  2.2  0.0  4.05  2.3\n",
            "13  0.00  0.55  3.45  1.9  0.2  0.0  0.00  0.0\n",
            "14  2.65  3.55  3.45  0.0  0.0  1.0  0.00  0.0\n",
            "15  0.65  0.00  0.00  0.0  1.2  0.0  1.05  0.0\n",
            "16  0.00  0.00  5.45  0.0  3.2  0.0  0.00  1.3\n",
            "17  2.65  0.00  0.00  0.0  0.0  1.0  4.05  0.0\n",
            "18  0.00  2.55  0.00  0.0  5.2  3.0  0.00  0.0\n",
            "19  3.65  0.00  0.00  0.9  0.0  1.0  0.00  0.0\n"
          ]
        }
      ]
    },
    {
      "cell_type": "code",
      "source": [
        "# Hitung SP dan SN\n",
        "SP = (PDA * bobot).sum(axis=1)\n",
        "SN = (NDA * bobot).sum(axis=1)\n",
        "\n",
        "# Normalisasi SP dan SN\n",
        "NSP = SP / SP.max()\n",
        "NSN = 1 - (SN / SN.max())\n",
        "\n",
        "# Konversi hasilnya menjadi DataFrame\n",
        "df_result = pd.DataFrame({\n",
        "    'Alternatif': ['A' + str(i+1) for i in range(df_alternatif.shape[0])],\n",
        "    'SP': SP,\n",
        "    'SN': SN,\n",
        "    'NSP': NSP,\n",
        "    'NSN': NSN\n",
        "})\n",
        "\n",
        "# Tampilkan hasil\n",
        "print(\"Hasil SP (Summed Positive distance) dan SN (Summed Negative distance):\")\n",
        "print(df_result[['Alternatif', 'SP', 'SN']])\n",
        "\n",
        "print(\"\\nHasil NSP (Normalized SP) dan NSN (Normalized SN):\")\n",
        "print(df_result[['Alternatif', 'NSP', 'NSN']])\n"
      ],
      "metadata": {
        "colab": {
          "base_uri": "https://localhost:8080/"
        },
        "id": "6BKGSoEBw8LT",
        "outputId": "9b9a1889-c7ff-41c2-d733-e3f71e6ac84c"
      },
      "execution_count": null,
      "outputs": [
        {
          "output_type": "stream",
          "name": "stdout",
          "text": [
            "Hasil SP (Summed Positive distance) dan SN (Summed Negative distance):\n",
            "   Alternatif        SP        SN\n",
            "0          A1  0.752550  1.373215\n",
            "1          A2  0.699065  1.613430\n",
            "2          A3  0.581645  0.853310\n",
            "3          A4  1.820755  0.003120\n",
            "4          A5  3.135665  0.292230\n",
            "5          A6  0.830570  1.396635\n",
            "6          A7  1.854960  0.977825\n",
            "7          A8  0.397820  0.541385\n",
            "8          A9  0.435540  2.090505\n",
            "9         A10  0.682440  1.867105\n",
            "10        A11  0.430895  1.855460\n",
            "11        A12  2.272870  0.370035\n",
            "12        A13  0.357050  1.407715\n",
            "13        A14  0.627680  0.818345\n",
            "14        A15  0.817370  2.145335\n",
            "15        A16  1.062595  0.422160\n",
            "16        A17  1.014515  1.443280\n",
            "17        A18  1.784815  1.051580\n",
            "18        A19  1.403730  1.359295\n",
            "19        A20  2.048385  1.128950\n",
            "\n",
            "Hasil NSP (Normalized SP) dan NSN (Normalized SN):\n",
            "   Alternatif       NSP       NSN\n",
            "0          A1  0.239997  0.359906\n",
            "1          A2  0.222940  0.247936\n",
            "2          A3  0.185493  0.602249\n",
            "3          A4  0.580660  0.998546\n",
            "4          A5  1.000000  0.863784\n",
            "5          A6  0.264878  0.348990\n",
            "6          A7  0.591568  0.544209\n",
            "7          A8  0.126869  0.747645\n",
            "8          A9  0.138899  0.025558\n",
            "9         A10  0.217638  0.129691\n",
            "10        A11  0.137417  0.135119\n",
            "11        A12  0.724845  0.827516\n",
            "12        A13  0.113867  0.343825\n",
            "13        A14  0.200174  0.618547\n",
            "14        A15  0.260669  0.000000\n",
            "15        A16  0.338874  0.803220\n",
            "16        A17  0.323541  0.327247\n",
            "17        A18  0.569198  0.509829\n",
            "18        A19  0.447666  0.366395\n",
            "19        A20  0.653254  0.473765\n"
          ]
        }
      ]
    },
    {
      "cell_type": "code",
      "source": [
        "# Hitung AS (Assessment Score)\n",
        "AS = 0.5 * (NSP + NSN)\n",
        "\n",
        "print(\"\\nHasil AS (Assessment Score):\")\n",
        "print(df_result[['Alternatif', 'AS']])\n",
        "\n"
      ],
      "metadata": {
        "colab": {
          "base_uri": "https://localhost:8080/"
        },
        "id": "GDYDbjQyBgnB",
        "outputId": "8a5451d7-6287-4d31-fa3e-664cb6f684ef"
      },
      "execution_count": null,
      "outputs": [
        {
          "output_type": "stream",
          "name": "stdout",
          "text": [
            "\n",
            "Hasil AS (Assessment Score):\n",
            "   Alternatif        AS\n",
            "4          A5  0.931892\n",
            "3          A4  0.789603\n",
            "11        A12  0.776181\n",
            "15        A16  0.571047\n",
            "6          A7  0.567889\n",
            "19        A20  0.563509\n",
            "17        A18  0.539514\n",
            "7          A8  0.437257\n",
            "13        A14  0.409361\n",
            "18        A19  0.407030\n",
            "2          A3  0.393871\n",
            "16        A17  0.325394\n",
            "5          A6  0.306934\n",
            "0          A1  0.299952\n",
            "1          A2  0.235438\n",
            "12        A13  0.228846\n",
            "9         A10  0.173664\n",
            "10        A11  0.136268\n",
            "14        A15  0.130334\n",
            "8          A9  0.082228\n"
          ]
        }
      ]
    },
    {
      "cell_type": "code",
      "source": [
        "# Buat DataFrame untuk hasil akhir\n",
        "df_result = pd.DataFrame({\n",
        "    'Alternatif': ['A' + str(i+1) for i in range(df_alternatif.shape[0])],\n",
        "    'SP': SP,\n",
        "    'SN': SN,\n",
        "    'NSP': NSP,\n",
        "    'NSN': NSN,\n",
        "    'AS': AS\n",
        "})\n",
        "\n",
        "# Urutkan alternatif berdasarkan AS\n",
        "df_result = df_result.sort_values(by='AS', ascending=False)\n",
        "\n",
        "print(df_result)\n",
        "\n",
        "# Hasil akhir, alternatif terbaik\n",
        "best_alternative = df_result.iloc[0]['Alternatif']\n",
        "print(f\"Alternatif terbaik adalah: {best_alternative}\")"
      ],
      "metadata": {
        "colab": {
          "base_uri": "https://localhost:8080/"
        },
        "id": "RiILio65Czgn",
        "outputId": "e6a9dea8-b570-49b6-90ea-6ef0c1820e6f"
      },
      "execution_count": null,
      "outputs": [
        {
          "output_type": "stream",
          "name": "stdout",
          "text": [
            "   Alternatif        SP        SN       NSP       NSN        AS\n",
            "4          A5  3.135665  0.292230  1.000000  0.863784  0.931892\n",
            "3          A4  1.820755  0.003120  0.580660  0.998546  0.789603\n",
            "11        A12  2.272870  0.370035  0.724845  0.827516  0.776181\n",
            "15        A16  1.062595  0.422160  0.338874  0.803220  0.571047\n",
            "6          A7  1.854960  0.977825  0.591568  0.544209  0.567889\n",
            "19        A20  2.048385  1.128950  0.653254  0.473765  0.563509\n",
            "17        A18  1.784815  1.051580  0.569198  0.509829  0.539514\n",
            "7          A8  0.397820  0.541385  0.126869  0.747645  0.437257\n",
            "13        A14  0.627680  0.818345  0.200174  0.618547  0.409361\n",
            "18        A19  1.403730  1.359295  0.447666  0.366395  0.407030\n",
            "2          A3  0.581645  0.853310  0.185493  0.602249  0.393871\n",
            "16        A17  1.014515  1.443280  0.323541  0.327247  0.325394\n",
            "5          A6  0.830570  1.396635  0.264878  0.348990  0.306934\n",
            "0          A1  0.752550  1.373215  0.239997  0.359906  0.299952\n",
            "1          A2  0.699065  1.613430  0.222940  0.247936  0.235438\n",
            "12        A13  0.357050  1.407715  0.113867  0.343825  0.228846\n",
            "9         A10  0.682440  1.867105  0.217638  0.129691  0.173664\n",
            "10        A11  0.430895  1.855460  0.137417  0.135119  0.136268\n",
            "14        A15  0.817370  2.145335  0.260669  0.000000  0.130334\n",
            "8          A9  0.435540  2.090505  0.138899  0.025558  0.082228\n",
            "Alternatif terbaik adalah: A5\n"
          ]
        }
      ]
    },
    {
      "cell_type": "code",
      "source": [],
      "metadata": {
        "id": "kDZV86ATCo9e"
      },
      "execution_count": null,
      "outputs": []
    }
  ]
}